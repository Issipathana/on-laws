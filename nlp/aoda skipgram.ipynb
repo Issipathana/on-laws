{
 "cells": [
  {
   "cell_type": "code",
   "execution_count": 1,
   "metadata": {
    "ExecuteTime": {
     "end_time": "2020-06-15T23:42:13.133645Z",
     "start_time": "2020-06-15T23:42:13.128830Z"
    }
   },
   "outputs": [],
   "source": [
    "from collections import Counter\n",
    "import pickle"
   ]
  },
  {
   "cell_type": "code",
   "execution_count": 2,
   "metadata": {
    "ExecuteTime": {
     "end_time": "2020-06-15T23:42:15.776952Z",
     "start_time": "2020-06-15T23:42:13.144790Z"
    }
   },
   "outputs": [],
   "source": [
    "import numpy as np\n",
    "import pandas as pd\n",
    "import tensorflow.keras as keras"
   ]
  },
  {
   "cell_type": "markdown",
   "metadata": {},
   "source": [
    "# load data"
   ]
  },
  {
   "cell_type": "code",
   "execution_count": 3,
   "metadata": {
    "ExecuteTime": {
     "end_time": "2020-06-15T23:42:17.834425Z",
     "start_time": "2020-06-15T23:42:15.779293Z"
    }
   },
   "outputs": [],
   "source": [
    "laws = pickle.load(open('./data/law_objects.p', 'rb'))\n",
    "aoda = laws['Accessibility for Ontarians with Disabilities Act, 2005, S.O. 2005, c. 11']"
   ]
  },
  {
   "cell_type": "code",
   "execution_count": 4,
   "metadata": {
    "ExecuteTime": {
     "end_time": "2020-06-15T23:42:17.850421Z",
     "start_time": "2020-06-15T23:42:17.838830Z"
    },
    "scrolled": false
   },
   "outputs": [],
   "source": [
    "# load the table of contents...\n",
    "# df_toc = pd.DataFrame(aoda.table_of_content.values())\n",
    "# df_toc"
   ]
  },
  {
   "cell_type": "markdown",
   "metadata": {},
   "source": [
    "## make training data for model"
   ]
  },
  {
   "cell_type": "code",
   "execution_count": 5,
   "metadata": {
    "ExecuteTime": {
     "end_time": "2020-06-15T23:42:17.876207Z",
     "start_time": "2020-06-15T23:42:17.863462Z"
    }
   },
   "outputs": [],
   "source": [
    "def build_dataset(words, n_words):\n",
    "    \"\"\"Process raw inputs into a dataset.\"\"\"\n",
    "    count = [['UNK', -1]]\n",
    "    count.extend(Counter(words).most_common(n_words - 1))\n",
    "    dictionary = dict()\n",
    "    for word, _ in count:\n",
    "        dictionary[word] = len(dictionary)\n",
    "    data = list()\n",
    "    unk_count = 0\n",
    "    for word in words:\n",
    "        if word in dictionary:\n",
    "            index = dictionary[word]\n",
    "        else:\n",
    "            index = 0  # dictionary['UNK']\n",
    "            unk_count += 1\n",
    "        data.append(index)\n",
    "    count[0][1] = unk_count\n",
    "    reversed_dictionary = dict(zip(dictionary.values(), dictionary.keys()))\n",
    "    return data, count, dictionary, reversed_dictionary"
   ]
  },
  {
   "cell_type": "code",
   "execution_count": 6,
   "metadata": {
    "ExecuteTime": {
     "end_time": "2020-06-15T23:42:17.902543Z",
     "start_time": "2020-06-15T23:42:17.886854Z"
    }
   },
   "outputs": [],
   "source": [
    "full_text = aoda.get_full_text().split()"
   ]
  },
  {
   "cell_type": "code",
   "execution_count": 7,
   "metadata": {
    "ExecuteTime": {
     "end_time": "2020-06-15T23:42:17.909676Z",
     "start_time": "2020-06-15T23:42:17.905234Z"
    }
   },
   "outputs": [],
   "source": [
    "vocab_size = 1000"
   ]
  },
  {
   "cell_type": "code",
   "execution_count": 9,
   "metadata": {
    "ExecuteTime": {
     "end_time": "2020-06-15T23:42:17.936621Z",
     "start_time": "2020-06-15T23:42:17.924133Z"
    }
   },
   "outputs": [],
   "source": [
    "data, count, dictionary, reversed_dictionary = build_dataset(full_text, vocab_size)"
   ]
  },
  {
   "cell_type": "code",
   "execution_count": 10,
   "metadata": {
    "ExecuteTime": {
     "end_time": "2020-06-15T23:42:17.948740Z",
     "start_time": "2020-06-15T23:42:17.943036Z"
    }
   },
   "outputs": [],
   "source": [
    "sampling_table = keras.preprocessing.sequence.make_sampling_table(vocab_size)"
   ]
  },
  {
   "cell_type": "code",
   "execution_count": 11,
   "metadata": {
    "ExecuteTime": {
     "end_time": "2020-06-15T23:42:17.956766Z",
     "start_time": "2020-06-15T23:42:17.953371Z"
    }
   },
   "outputs": [],
   "source": [
    "window_size = 3"
   ]
  },
  {
   "cell_type": "code",
   "execution_count": 12,
   "metadata": {
    "ExecuteTime": {
     "end_time": "2020-06-15T23:42:18.002733Z",
     "start_time": "2020-06-15T23:42:17.959782Z"
    }
   },
   "outputs": [],
   "source": [
    "couples, labels = keras.preprocessing.sequence.skipgrams(data, vocab_size, window_size=window_size, sampling_table=sampling_table)"
   ]
  },
  {
   "cell_type": "code",
   "execution_count": 13,
   "metadata": {
    "ExecuteTime": {
     "end_time": "2020-06-15T23:42:18.016921Z",
     "start_time": "2020-06-15T23:42:18.005895Z"
    }
   },
   "outputs": [],
   "source": [
    "word_target, word_context = zip(*couples)\n",
    "word_target = np.array(word_target, dtype=\"int32\")\n",
    "word_context = np.array(word_context, dtype=\"int32\")"
   ]
  },
  {
   "cell_type": "markdown",
   "metadata": {},
   "source": [
    "# define model"
   ]
  },
  {
   "cell_type": "code",
   "execution_count": 8,
   "metadata": {
    "ExecuteTime": {
     "end_time": "2020-06-15T23:42:17.921253Z",
     "start_time": "2020-06-15T23:42:17.917820Z"
    }
   },
   "outputs": [],
   "source": [
    "vector_dim = 50"
   ]
  },
  {
   "cell_type": "code",
   "execution_count": 14,
   "metadata": {
    "ExecuteTime": {
     "end_time": "2020-06-15T23:42:18.038015Z",
     "start_time": "2020-06-15T23:42:18.021238Z"
    }
   },
   "outputs": [],
   "source": [
    "input_target = keras.Input((1,))\n",
    "input_context = keras.Input((1,))\n",
    "\n",
    "embedding = keras.layers.Embedding(vocab_size, vector_dim, input_length=1, name='embedding')"
   ]
  },
  {
   "cell_type": "code",
   "execution_count": 15,
   "metadata": {
    "ExecuteTime": {
     "end_time": "2020-06-15T23:42:18.100847Z",
     "start_time": "2020-06-15T23:42:18.052418Z"
    }
   },
   "outputs": [],
   "source": [
    "target = embedding(input_target)"
   ]
  },
  {
   "cell_type": "code",
   "execution_count": 16,
   "metadata": {
    "ExecuteTime": {
     "end_time": "2020-06-15T23:42:18.128277Z",
     "start_time": "2020-06-15T23:42:18.107204Z"
    }
   },
   "outputs": [
    {
     "data": {
      "text/plain": [
       "TensorShape([None, 1, 50])"
      ]
     },
     "execution_count": 16,
     "metadata": {},
     "output_type": "execute_result"
    }
   ],
   "source": [
    "target.shape"
   ]
  },
  {
   "cell_type": "code",
   "execution_count": 17,
   "metadata": {
    "ExecuteTime": {
     "end_time": "2020-06-15T23:42:18.158292Z",
     "start_time": "2020-06-15T23:42:18.136347Z"
    }
   },
   "outputs": [],
   "source": [
    "target = keras.layers.Reshape((vector_dim, 1))(target)"
   ]
  },
  {
   "cell_type": "code",
   "execution_count": 18,
   "metadata": {
    "ExecuteTime": {
     "end_time": "2020-06-15T23:42:18.179162Z",
     "start_time": "2020-06-15T23:42:18.168619Z"
    }
   },
   "outputs": [
    {
     "data": {
      "text/plain": [
       "TensorShape([None, 50, 1])"
      ]
     },
     "execution_count": 18,
     "metadata": {},
     "output_type": "execute_result"
    }
   ],
   "source": [
    "target.shape"
   ]
  },
  {
   "cell_type": "code",
   "execution_count": 19,
   "metadata": {
    "ExecuteTime": {
     "end_time": "2020-06-15T23:42:18.230591Z",
     "start_time": "2020-06-15T23:42:18.185921Z"
    }
   },
   "outputs": [],
   "source": [
    "context = embedding(input_context)\n",
    "context = keras.layers.Reshape((vector_dim, 1))(context)"
   ]
  },
  {
   "cell_type": "code",
   "execution_count": 20,
   "metadata": {
    "ExecuteTime": {
     "end_time": "2020-06-15T23:42:18.249705Z",
     "start_time": "2020-06-15T23:42:18.237496Z"
    }
   },
   "outputs": [
    {
     "data": {
      "text/plain": [
       "TensorShape([None, 50, 1])"
      ]
     },
     "execution_count": 20,
     "metadata": {},
     "output_type": "execute_result"
    }
   ],
   "source": [
    "context.shape"
   ]
  },
  {
   "cell_type": "code",
   "execution_count": 21,
   "metadata": {
    "ExecuteTime": {
     "end_time": "2020-06-15T23:42:18.264770Z",
     "start_time": "2020-06-15T23:42:18.256816Z"
    }
   },
   "outputs": [],
   "source": [
    "# keras.layers.Dot?"
   ]
  },
  {
   "cell_type": "code",
   "execution_count": 22,
   "metadata": {
    "ExecuteTime": {
     "end_time": "2020-06-15T23:42:18.365132Z",
     "start_time": "2020-06-15T23:42:18.270621Z"
    }
   },
   "outputs": [],
   "source": [
    "# now perform the dot product operation to get a similarity measure\n",
    "dot_product = keras.layers.Dot(axes=(1, 1))([target, context])\n",
    "dot_product = keras.layers.Reshape((1,))(dot_product)\n",
    "# add the sigmoid output layer\n",
    "output = keras.layers.Dense(1, activation='sigmoid')(dot_product)"
   ]
  },
  {
   "cell_type": "code",
   "execution_count": 23,
   "metadata": {
    "ExecuteTime": {
     "end_time": "2020-06-15T23:42:18.376244Z",
     "start_time": "2020-06-15T23:42:18.371070Z"
    }
   },
   "outputs": [
    {
     "data": {
      "text/plain": [
       "TensorShape([None, 1])"
      ]
     },
     "execution_count": 23,
     "metadata": {},
     "output_type": "execute_result"
    }
   ],
   "source": [
    "dot_product.shape"
   ]
  },
  {
   "cell_type": "code",
   "execution_count": 24,
   "metadata": {
    "ExecuteTime": {
     "end_time": "2020-06-15T23:42:18.387909Z",
     "start_time": "2020-06-15T23:42:18.382204Z"
    }
   },
   "outputs": [],
   "source": [
    "# keras.models.Model?"
   ]
  },
  {
   "cell_type": "code",
   "execution_count": 25,
   "metadata": {
    "ExecuteTime": {
     "end_time": "2020-06-15T23:42:18.418827Z",
     "start_time": "2020-06-15T23:42:18.393677Z"
    }
   },
   "outputs": [],
   "source": [
    "model = keras.models.Model(inputs=[input_target, input_context], outputs=output)\n",
    "model.compile(loss='binary_crossentropy', optimizer='rmsprop')"
   ]
  },
  {
   "cell_type": "markdown",
   "metadata": {},
   "source": [
    "# training"
   ]
  },
  {
   "cell_type": "code",
   "execution_count": 26,
   "metadata": {
    "ExecuteTime": {
     "end_time": "2020-06-15T23:43:35.620090Z",
     "start_time": "2020-06-15T23:42:33.795903Z"
    }
   },
   "outputs": [
    {
     "name": "stdout",
     "output_type": "stream",
     "text": [
      "epoch=0, iteration=0, loss=0.6934535503387451\n",
      "epoch=0, iteration=100, loss=0.6907022595405579\n",
      "epoch=0, iteration=200, loss=0.7000821828842163\n",
      "epoch=0, iteration=300, loss=0.6992325186729431\n",
      "epoch=0, iteration=400, loss=0.7059688568115234\n",
      "epoch=0, iteration=500, loss=0.7028411030769348\n",
      "epoch=0, iteration=600, loss=0.6720324158668518\n",
      "epoch=0, iteration=700, loss=0.6694661378860474\n",
      "epoch=0, iteration=800, loss=0.7160507440567017\n",
      "epoch=0, iteration=900, loss=0.7050637602806091\n",
      "epoch=0, iteration=1000, loss=0.6892139911651611\n",
      "epoch=0, iteration=1100, loss=0.6951765418052673\n",
      "epoch=0, iteration=1200, loss=0.6999302506446838\n",
      "epoch=0, iteration=1300, loss=0.6990377902984619\n",
      "epoch=0, iteration=1400, loss=0.715488076210022\n",
      "epoch=0, iteration=1500, loss=0.6624873280525208\n",
      "epoch=0, iteration=1600, loss=0.7055563926696777\n",
      "epoch=0, iteration=1700, loss=0.6980881690979004\n",
      "epoch=0, iteration=1800, loss=0.7003752589225769\n",
      "epoch=0, iteration=1900, loss=0.7037999629974365\n",
      "epoch=0, iteration=2000, loss=0.666250467300415\n",
      "epoch=0, iteration=2100, loss=0.7097874879837036\n",
      "epoch=0, iteration=2200, loss=0.6861686110496521\n",
      "epoch=0, iteration=2300, loss=0.6688011288642883\n",
      "epoch=0, iteration=2400, loss=0.6881769299507141\n",
      "epoch=0, iteration=2500, loss=0.6568748950958252\n",
      "epoch=0, iteration=2600, loss=0.6731915473937988\n",
      "epoch=0, iteration=2700, loss=0.7323876619338989\n",
      "epoch=0, iteration=2800, loss=0.6761945486068726\n",
      "epoch=0, iteration=2900, loss=0.7033148407936096\n",
      "epoch=0, iteration=3000, loss=0.655106246471405\n",
      "epoch=0, iteration=3100, loss=0.6883366703987122\n",
      "epoch=0, iteration=3200, loss=0.6810491681098938\n",
      "epoch=0, iteration=3300, loss=0.7071816921234131\n",
      "epoch=0, iteration=3400, loss=0.6724533438682556\n",
      "epoch=0, iteration=3500, loss=0.6608138680458069\n",
      "epoch=0, iteration=3600, loss=0.7008878588676453\n",
      "epoch=0, iteration=3700, loss=0.7042350172996521\n",
      "epoch=0, iteration=3800, loss=0.6821942329406738\n",
      "epoch=0, iteration=3900, loss=0.65348219871521\n",
      "epoch=0, iteration=4000, loss=0.697577714920044\n",
      "epoch=0, iteration=4100, loss=0.7013953924179077\n",
      "epoch=0, iteration=4200, loss=0.6789711713790894\n",
      "epoch=0, iteration=4300, loss=0.6841567754745483\n",
      "epoch=0, iteration=4400, loss=0.7603024840354919\n",
      "epoch=0, iteration=4500, loss=0.6911559104919434\n",
      "epoch=0, iteration=4600, loss=0.6639918088912964\n",
      "epoch=0, iteration=4700, loss=0.6702783107757568\n",
      "epoch=0, iteration=4800, loss=0.6537121534347534\n",
      "epoch=0, iteration=4900, loss=0.6491827964782715\n",
      "epoch=0, iteration=5000, loss=0.6805322766304016\n",
      "epoch=0, iteration=5100, loss=0.688306987285614\n",
      "epoch=0, iteration=5200, loss=0.6606873273849487\n",
      "epoch=0, iteration=5300, loss=0.6821321249008179\n",
      "epoch=0, iteration=5400, loss=0.70047926902771\n",
      "epoch=0, iteration=5500, loss=0.6851566433906555\n",
      "epoch=0, iteration=5600, loss=0.669783890247345\n",
      "epoch=0, iteration=5700, loss=0.6379967331886292\n",
      "epoch=0, iteration=5800, loss=0.6915056109428406\n",
      "epoch=0, iteration=5900, loss=0.6602252125740051\n",
      "epoch=1, iteration=0, loss=0.6942189335823059\n",
      "epoch=1, iteration=100, loss=0.6793490648269653\n",
      "epoch=1, iteration=200, loss=0.639519989490509\n",
      "epoch=1, iteration=300, loss=0.6637395620346069\n",
      "epoch=1, iteration=400, loss=0.6579580307006836\n",
      "epoch=1, iteration=500, loss=0.6550109386444092\n",
      "epoch=1, iteration=600, loss=0.6819509863853455\n",
      "epoch=1, iteration=700, loss=0.619910717010498\n",
      "epoch=1, iteration=800, loss=0.6672120094299316\n",
      "epoch=1, iteration=900, loss=0.690731406211853\n",
      "epoch=1, iteration=1000, loss=0.636360228061676\n",
      "epoch=1, iteration=1100, loss=0.626639723777771\n",
      "epoch=1, iteration=1200, loss=0.6209599375724792\n",
      "epoch=1, iteration=1300, loss=0.7073513865470886\n",
      "epoch=1, iteration=1400, loss=0.5306586027145386\n",
      "epoch=1, iteration=1500, loss=0.5895965695381165\n",
      "epoch=1, iteration=1600, loss=0.5123717188835144\n",
      "epoch=1, iteration=1700, loss=0.6623647809028625\n",
      "epoch=1, iteration=1800, loss=0.6293755769729614\n",
      "epoch=1, iteration=1900, loss=0.7512450814247131\n",
      "epoch=1, iteration=2000, loss=0.6375154256820679\n",
      "epoch=1, iteration=2100, loss=0.7045620679855347\n",
      "epoch=1, iteration=2200, loss=0.6613742113113403\n",
      "epoch=1, iteration=2300, loss=0.6647167205810547\n",
      "epoch=1, iteration=2400, loss=0.6274629235267639\n",
      "epoch=1, iteration=2500, loss=0.6259403228759766\n",
      "epoch=1, iteration=2600, loss=0.5739330053329468\n",
      "epoch=1, iteration=2700, loss=0.6440083384513855\n",
      "epoch=1, iteration=2800, loss=0.6769462823867798\n",
      "epoch=1, iteration=2900, loss=0.6031062602996826\n",
      "epoch=1, iteration=3000, loss=0.6701604127883911\n",
      "epoch=1, iteration=3100, loss=0.5760021209716797\n",
      "epoch=1, iteration=3200, loss=0.6817818880081177\n",
      "epoch=1, iteration=3300, loss=0.659885823726654\n",
      "epoch=1, iteration=3400, loss=0.5836689472198486\n",
      "epoch=1, iteration=3500, loss=0.6072243452072144\n",
      "epoch=1, iteration=3600, loss=0.6705679893493652\n",
      "epoch=1, iteration=3700, loss=0.7843586802482605\n",
      "epoch=1, iteration=3800, loss=0.6804783344268799\n",
      "epoch=1, iteration=3900, loss=0.6914108395576477\n",
      "epoch=1, iteration=4000, loss=0.7253358364105225\n",
      "epoch=1, iteration=4100, loss=0.5738720893859863\n",
      "epoch=1, iteration=4200, loss=0.6043219566345215\n",
      "epoch=1, iteration=4300, loss=0.6451077461242676\n",
      "epoch=1, iteration=4400, loss=0.6547677516937256\n",
      "epoch=1, iteration=4500, loss=0.6001254320144653\n",
      "epoch=1, iteration=4600, loss=0.2780769169330597\n",
      "epoch=1, iteration=4700, loss=0.6012558937072754\n",
      "epoch=1, iteration=4800, loss=0.5749183297157288\n",
      "epoch=1, iteration=4900, loss=0.6949561834335327\n",
      "epoch=1, iteration=5000, loss=0.7003028988838196\n",
      "epoch=1, iteration=5100, loss=0.48195990920066833\n",
      "epoch=1, iteration=5200, loss=0.5976147055625916\n",
      "epoch=1, iteration=5300, loss=0.6342201232910156\n",
      "epoch=1, iteration=5400, loss=0.5238519310951233\n",
      "epoch=1, iteration=5500, loss=0.4819078743457794\n",
      "epoch=1, iteration=5600, loss=0.6431359648704529\n",
      "epoch=1, iteration=5700, loss=0.643052339553833\n",
      "epoch=1, iteration=5800, loss=0.6559520363807678\n",
      "epoch=1, iteration=5900, loss=0.578035831451416\n"
     ]
    }
   ],
   "source": [
    "arr_1 = np.zeros((1,))\n",
    "arr_2 = np.zeros((1,))\n",
    "arr_3 = np.zeros((1,))\n",
    "\n",
    "\n",
    "def train_on_idx(idx):\n",
    "    arr_1[0,] = word_target[idx]\n",
    "    arr_2[0,] = word_context[idx]\n",
    "    arr_3[0,] = labels[idx]\n",
    "    loss = model.train_on_batch([arr_1, arr_2], arr_3)\n",
    "    return loss\n",
    "\n",
    "\n",
    "for epoch in range(5):\n",
    "    for i, _ in enumerate(labels):\n",
    "        idx = np.random.randint(0, len(labels)-1)\n",
    "        loss = train_on_idx(idx)\n",
    "        if i % 100 == 0:\n",
    "            print(f\"epoch={epoch}, iteration={i}, loss={loss}\")\n",
    "            status_dict = dict(\n",
    "                epoch=epoch,\n",
    "                iteration=i,\n",
    "                loss=loss\n",
    "            )\n",
    "            print(json.dumps(status_dict))\n"
   ]
  },
  {
   "cell_type": "markdown",
   "metadata": {},
   "source": [
    "# inspect model"
   ]
  },
  {
   "cell_type": "code",
   "execution_count": 27,
   "metadata": {
    "ExecuteTime": {
     "end_time": "2020-06-15T23:45:45.073627Z",
     "start_time": "2020-06-15T23:45:45.065315Z"
    }
   },
   "outputs": [],
   "source": [
    "w = embedding.get_weights()[0]"
   ]
  },
  {
   "cell_type": "code",
   "execution_count": 28,
   "metadata": {
    "ExecuteTime": {
     "end_time": "2020-06-15T23:45:47.423764Z",
     "start_time": "2020-06-15T23:45:47.418735Z"
    }
   },
   "outputs": [],
   "source": [
    "idx = dictionary['person']"
   ]
  },
  {
   "cell_type": "code",
   "execution_count": 29,
   "metadata": {
    "ExecuteTime": {
     "end_time": "2020-06-15T23:45:49.503720Z",
     "start_time": "2020-06-15T23:45:49.488496Z"
    }
   },
   "outputs": [
    {
     "data": {
      "text/plain": [
       "array([-0.06638943,  0.11270314,  0.11104234,  0.06465197, -0.1461588 ,\n",
       "       -0.02137691, -0.21196291, -0.07766849, -0.04437681, -0.09051446,\n",
       "        0.00324201,  0.09179306, -0.07834518,  0.02021119, -0.0828746 ,\n",
       "        0.10674976, -0.15503407,  0.06106364, -0.0236591 ,  0.0548764 ,\n",
       "        0.09322184, -0.04171119,  0.0598115 , -0.05916625, -0.14053914,\n",
       "        0.11972107,  0.16020969,  0.01603727, -0.09535272, -0.17483722,\n",
       "        0.03450698, -0.12684678,  0.00837175, -0.0446505 , -0.04457981,\n",
       "       -0.07069454, -0.04461625, -0.07375158, -0.02310784, -0.07724912,\n",
       "       -0.06035157,  0.04088867, -0.08193712,  0.04613021,  0.07917677,\n",
       "        0.18445614,  0.01336339, -0.15753128, -0.02324865,  0.02681453],\n",
       "      dtype=float32)"
      ]
     },
     "execution_count": 29,
     "metadata": {},
     "output_type": "execute_result"
    }
   ],
   "source": [
    "w[idx]"
   ]
  },
  {
   "cell_type": "code",
   "execution_count": 33,
   "metadata": {
    "ExecuteTime": {
     "end_time": "2020-06-15T23:45:58.858127Z",
     "start_time": "2020-06-15T23:45:58.848811Z"
    }
   },
   "outputs": [
    {
     "data": {
      "text/plain": [
       "(50,)"
      ]
     },
     "execution_count": 33,
     "metadata": {},
     "output_type": "execute_result"
    }
   ],
   "source": [
    "w[idx].shape"
   ]
  },
  {
   "cell_type": "markdown",
   "metadata": {},
   "source": [
    "## query nearest neighbors in embedding space"
   ]
  },
  {
   "cell_type": "code",
   "execution_count": 34,
   "metadata": {
    "ExecuteTime": {
     "end_time": "2020-06-15T23:46:11.252435Z",
     "start_time": "2020-06-15T23:46:11.248313Z"
    }
   },
   "outputs": [],
   "source": [
    "from sklearn.neighbors import KNeighborsTransformer"
   ]
  },
  {
   "cell_type": "code",
   "execution_count": 35,
   "metadata": {
    "ExecuteTime": {
     "end_time": "2020-06-15T23:46:12.786357Z",
     "start_time": "2020-06-15T23:46:12.778065Z"
    }
   },
   "outputs": [],
   "source": [
    "knn = KNeighborsTransformer(n_neighbors=1, metric='cosine')"
   ]
  },
  {
   "cell_type": "code",
   "execution_count": 36,
   "metadata": {
    "ExecuteTime": {
     "end_time": "2020-06-15T23:46:14.099185Z",
     "start_time": "2020-06-15T23:46:14.087479Z"
    },
    "scrolled": true
   },
   "outputs": [
    {
     "data": {
      "text/plain": [
       "KNeighborsTransformer(algorithm='auto', leaf_size=30, metric='cosine',\n",
       "                      metric_params=None, mode='distance', n_jobs=1,\n",
       "                      n_neighbors=1, p=2)"
      ]
     },
     "execution_count": 36,
     "metadata": {},
     "output_type": "execute_result"
    }
   ],
   "source": [
    "knn.fit(w)"
   ]
  },
  {
   "cell_type": "code",
   "execution_count": 63,
   "metadata": {
    "ExecuteTime": {
     "end_time": "2020-06-16T00:00:53.949317Z",
     "start_time": "2020-06-16T00:00:53.938764Z"
    }
   },
   "outputs": [
    {
     "name": "stdout",
     "output_type": "stream",
     "text": [
      "[0.        0.4581476 0.4967268 0.5803944 0.6285573]\n",
      "[ 10  13 254 236 763]\n",
      "['person', 'for', 'order;', 'internet', 'reliance']\n"
     ]
    }
   ],
   "source": [
    "# knn.kneighbors?\n",
    "\n",
    "neigh_dist, neigh_ind = knn.kneighbors(w[idx].reshape(1, -1), n_neighbors=5)\n",
    "\n",
    "print(neigh_dist[0])\n",
    "print(neigh_ind[0])\n",
    "print(list(reversed_dictionary[i] for i in neigh_ind[0]))"
   ]
  },
  {
   "cell_type": "code",
   "execution_count": null,
   "metadata": {},
   "outputs": [],
   "source": []
  }
 ],
 "metadata": {
  "kernelspec": {
   "display_name": "Python 3",
   "language": "python",
   "name": "python3"
  },
  "language_info": {
   "codemirror_mode": {
    "name": "ipython",
    "version": 3
   },
   "file_extension": ".py",
   "mimetype": "text/x-python",
   "name": "python",
   "nbconvert_exporter": "python",
   "pygments_lexer": "ipython3",
   "version": "3.7.7"
  },
  "toc": {
   "base_numbering": 1,
   "nav_menu": {},
   "number_sections": true,
   "sideBar": true,
   "skip_h1_title": false,
   "title_cell": "Table of Contents",
   "title_sidebar": "Contents",
   "toc_cell": false,
   "toc_position": {},
   "toc_section_display": true,
   "toc_window_display": false
  },
  "varInspector": {
   "cols": {
    "lenName": 16,
    "lenType": 16,
    "lenVar": 40
   },
   "kernels_config": {
    "python": {
     "delete_cmd_postfix": "",
     "delete_cmd_prefix": "del ",
     "library": "var_list.py",
     "varRefreshCmd": "print(var_dic_list())"
    },
    "r": {
     "delete_cmd_postfix": ") ",
     "delete_cmd_prefix": "rm(",
     "library": "var_list.r",
     "varRefreshCmd": "cat(var_dic_list()) "
    }
   },
   "types_to_exclude": [
    "module",
    "function",
    "builtin_function_or_method",
    "instance",
    "_Feature"
   ],
   "window_display": false
  }
 },
 "nbformat": 4,
 "nbformat_minor": 4
}

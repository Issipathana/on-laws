{
 "cells": [
  {
   "cell_type": "code",
   "execution_count": 1,
   "metadata": {
    "ExecuteTime": {
     "end_time": "2020-06-15T20:55:24.797879Z",
     "start_time": "2020-06-15T20:55:24.753524Z"
    }
   },
   "outputs": [],
   "source": [
    "import pickle"
   ]
  },
  {
   "cell_type": "code",
   "execution_count": 62,
   "metadata": {
    "ExecuteTime": {
     "end_time": "2020-06-15T20:55:26.671487Z",
     "start_time": "2020-06-15T20:55:24.814609Z"
    }
   },
   "outputs": [],
   "source": [
    "import pandas as pd\n",
    "import numpy as np"
   ]
  },
  {
   "cell_type": "code",
   "execution_count": 11,
   "metadata": {},
   "outputs": [],
   "source": [
    "from collections import Counter"
   ]
  },
  {
   "cell_type": "code",
   "execution_count": 39,
   "metadata": {},
   "outputs": [],
   "source": [
    "import tensorflow.keras as keras"
   ]
  },
  {
   "cell_type": "markdown",
   "metadata": {},
   "source": [
    "# load data"
   ]
  },
  {
   "cell_type": "code",
   "execution_count": 3,
   "metadata": {
    "ExecuteTime": {
     "end_time": "2020-06-15T20:55:39.989810Z",
     "start_time": "2020-06-15T20:55:34.420073Z"
    }
   },
   "outputs": [],
   "source": [
    "laws = pickle.load(open('./data/law_objects.p', 'rb'))"
   ]
  },
  {
   "cell_type": "code",
   "execution_count": 4,
   "metadata": {
    "ExecuteTime": {
     "end_time": "2020-06-15T20:55:47.248498Z",
     "start_time": "2020-06-15T20:55:47.208198Z"
    }
   },
   "outputs": [],
   "source": [
    "aoda = laws['Accessibility for Ontarians with Disabilities Act, 2005, S.O. 2005, c. 11']"
   ]
  },
  {
   "cell_type": "code",
   "execution_count": 5,
   "metadata": {
    "ExecuteTime": {
     "end_time": "2020-06-15T20:55:49.534771Z",
     "start_time": "2020-06-15T20:55:49.466973Z"
    },
    "scrolled": false
   },
   "outputs": [
    {
     "data": {
      "text/html": [
       "<div>\n",
       "<style scoped>\n",
       "    .dataframe tbody tr th:only-of-type {\n",
       "        vertical-align: middle;\n",
       "    }\n",
       "\n",
       "    .dataframe tbody tr th {\n",
       "        vertical-align: top;\n",
       "    }\n",
       "\n",
       "    .dataframe thead th {\n",
       "        text-align: right;\n",
       "    }\n",
       "</style>\n",
       "<table border=\"1\" class=\"dataframe\">\n",
       "  <thead>\n",
       "    <tr style=\"text-align: right;\">\n",
       "      <th></th>\n",
       "      <th>level1</th>\n",
       "      <th>level2</th>\n",
       "      <th>level3</th>\n",
       "    </tr>\n",
       "  </thead>\n",
       "  <tbody>\n",
       "    <tr>\n",
       "      <th>0</th>\n",
       "      <td>Part I interpretation</td>\n",
       "      <td></td>\n",
       "      <td>Purpose</td>\n",
       "    </tr>\n",
       "    <tr>\n",
       "      <th>1</th>\n",
       "      <td>Part I interpretation</td>\n",
       "      <td></td>\n",
       "      <td>Definitions</td>\n",
       "    </tr>\n",
       "    <tr>\n",
       "      <th>2</th>\n",
       "      <td>Part I interpretation</td>\n",
       "      <td></td>\n",
       "      <td>Recognition of existing legal obligations</td>\n",
       "    </tr>\n",
       "    <tr>\n",
       "      <th>3</th>\n",
       "      <td>part ii application</td>\n",
       "      <td></td>\n",
       "      <td>Application</td>\n",
       "    </tr>\n",
       "    <tr>\n",
       "      <th>4</th>\n",
       "      <td>part ii application</td>\n",
       "      <td></td>\n",
       "      <td>Crown bound</td>\n",
       "    </tr>\n",
       "    <tr>\n",
       "      <th>...</th>\n",
       "      <td>...</td>\n",
       "      <td>...</td>\n",
       "      <td>...</td>\n",
       "    </tr>\n",
       "    <tr>\n",
       "      <th>158</th>\n",
       "      <td>part x general</td>\n",
       "      <td>Compliance with Standards and Review of Reports</td>\n",
       "      <td>Tabling of report</td>\n",
       "    </tr>\n",
       "    <tr>\n",
       "      <th>159</th>\n",
       "      <td>part x general</td>\n",
       "      <td>Compliance with Standards and Review of Reports</td>\n",
       "      <td>Review of Act</td>\n",
       "    </tr>\n",
       "    <tr>\n",
       "      <th>160</th>\n",
       "      <td>part x general</td>\n",
       "      <td>Compliance with Standards and Review of Reports</td>\n",
       "      <td>Consultation</td>\n",
       "    </tr>\n",
       "    <tr>\n",
       "      <th>161</th>\n",
       "      <td>part x general</td>\n",
       "      <td>Compliance with Standards and Review of Reports</td>\n",
       "      <td>Contents of report</td>\n",
       "    </tr>\n",
       "    <tr>\n",
       "      <th>162</th>\n",
       "      <td>part x general</td>\n",
       "      <td>Compliance with Standards and Review of Reports</td>\n",
       "      <td>Further review</td>\n",
       "    </tr>\n",
       "  </tbody>\n",
       "</table>\n",
       "<p>163 rows × 3 columns</p>\n",
       "</div>"
      ],
      "text/plain": [
       "                    level1                                           level2  \\\n",
       "0    Part I interpretation                                                    \n",
       "1    Part I interpretation                                                    \n",
       "2    Part I interpretation                                                    \n",
       "3      part ii application                                                    \n",
       "4      part ii application                                                    \n",
       "..                     ...                                              ...   \n",
       "158         part x general  Compliance with Standards and Review of Reports   \n",
       "159         part x general  Compliance with Standards and Review of Reports   \n",
       "160         part x general  Compliance with Standards and Review of Reports   \n",
       "161         part x general  Compliance with Standards and Review of Reports   \n",
       "162         part x general  Compliance with Standards and Review of Reports   \n",
       "\n",
       "                                        level3  \n",
       "0                                      Purpose  \n",
       "1                                  Definitions  \n",
       "2    Recognition of existing legal obligations  \n",
       "3                                  Application  \n",
       "4                                  Crown bound  \n",
       "..                                         ...  \n",
       "158                          Tabling of report  \n",
       "159                              Review of Act  \n",
       "160                               Consultation  \n",
       "161                         Contents of report  \n",
       "162                             Further review  \n",
       "\n",
       "[163 rows x 3 columns]"
      ]
     },
     "execution_count": 5,
     "metadata": {},
     "output_type": "execute_result"
    }
   ],
   "source": [
    "df_toc = pd.DataFrame(aoda.table_of_content.values())\n",
    "df_toc"
   ]
  },
  {
   "cell_type": "code",
   "execution_count": 12,
   "metadata": {},
   "outputs": [],
   "source": [
    "def build_dataset(words, n_words):\n",
    "    \"\"\"Process raw inputs into a dataset.\"\"\"\n",
    "    count = [['UNK', -1]]\n",
    "    count.extend(Counter(words).most_common(n_words - 1))\n",
    "    dictionary = dict()\n",
    "    for word, _ in count:\n",
    "        dictionary[word] = len(dictionary)\n",
    "    data = list()\n",
    "    unk_count = 0\n",
    "    for word in words:\n",
    "        if word in dictionary:\n",
    "            index = dictionary[word]\n",
    "        else:\n",
    "            index = 0  # dictionary['UNK']\n",
    "            unk_count += 1\n",
    "        data.append(index)\n",
    "    count[0][1] = unk_count\n",
    "    reversed_dictionary = dict(zip(dictionary.values(), dictionary.keys()))\n",
    "    return data, count, dictionary, reversed_dictionary"
   ]
  },
  {
   "cell_type": "code",
   "execution_count": 13,
   "metadata": {},
   "outputs": [],
   "source": [
    "full_text = aoda.get_full_text().split()"
   ]
  },
  {
   "cell_type": "code",
   "execution_count": 42,
   "metadata": {},
   "outputs": [],
   "source": [
    "vocab_size = 1000"
   ]
  },
  {
   "cell_type": "code",
   "execution_count": 65,
   "metadata": {},
   "outputs": [],
   "source": [
    "vector_dim = 50"
   ]
  },
  {
   "cell_type": "code",
   "execution_count": 43,
   "metadata": {},
   "outputs": [],
   "source": [
    "data, count, dictionary, reversed_dictionary = build_dataset(full_text, vocab_size)"
   ]
  },
  {
   "cell_type": "code",
   "execution_count": 49,
   "metadata": {},
   "outputs": [],
   "source": [
    "sampling_table = keras.preprocessing.sequence.make_sampling_table(vocab_size)"
   ]
  },
  {
   "cell_type": "code",
   "execution_count": 50,
   "metadata": {},
   "outputs": [],
   "source": [
    "window_size = 3"
   ]
  },
  {
   "cell_type": "code",
   "execution_count": 51,
   "metadata": {},
   "outputs": [],
   "source": [
    "couples, labels = keras.preprocessing.sequence.skipgrams(data, vocab_size, window_size=window_size, sampling_table=sampling_table)"
   ]
  },
  {
   "cell_type": "code",
   "execution_count": 63,
   "metadata": {},
   "outputs": [],
   "source": [
    "word_target, word_context = zip(*couples)\n",
    "word_target = np.array(word_target, dtype=\"int32\")\n",
    "word_context = np.array(word_context, dtype=\"int32\")"
   ]
  },
  {
   "cell_type": "code",
   "execution_count": 67,
   "metadata": {},
   "outputs": [],
   "source": [
    "input_target = keras.Input((1,))\n",
    "input_context = keras.Input((1,))\n",
    "\n",
    "embedding = keras.layers.Embedding(vocab_size, vector_dim, input_length=1, name='embedding')"
   ]
  },
  {
   "cell_type": "code",
   "execution_count": 77,
   "metadata": {},
   "outputs": [],
   "source": [
    "target = embedding(input_target)"
   ]
  },
  {
   "cell_type": "code",
   "execution_count": 78,
   "metadata": {},
   "outputs": [
    {
     "data": {
      "text/plain": [
       "TensorShape([None, 1, 50])"
      ]
     },
     "execution_count": 78,
     "metadata": {},
     "output_type": "execute_result"
    }
   ],
   "source": [
    "target.shape"
   ]
  },
  {
   "cell_type": "code",
   "execution_count": 79,
   "metadata": {},
   "outputs": [],
   "source": [
    "target = keras.layers.Reshape((vector_dim, 1))(target)"
   ]
  },
  {
   "cell_type": "code",
   "execution_count": 80,
   "metadata": {},
   "outputs": [
    {
     "data": {
      "text/plain": [
       "TensorShape([None, 50, 1])"
      ]
     },
     "execution_count": 80,
     "metadata": {},
     "output_type": "execute_result"
    }
   ],
   "source": [
    "target.shape"
   ]
  },
  {
   "cell_type": "code",
   "execution_count": 82,
   "metadata": {},
   "outputs": [],
   "source": [
    "context = embedding(input_context)\n",
    "context = keras.layers.Reshape((vector_dim, 1))(context)"
   ]
  },
  {
   "cell_type": "code",
   "execution_count": 83,
   "metadata": {},
   "outputs": [
    {
     "data": {
      "text/plain": [
       "TensorShape([None, 50, 1])"
      ]
     },
     "execution_count": 83,
     "metadata": {},
     "output_type": "execute_result"
    }
   ],
   "source": [
    "context.shape"
   ]
  },
  {
   "cell_type": "code",
   "execution_count": 90,
   "metadata": {},
   "outputs": [],
   "source": [
    "keras.layers.Dot?"
   ]
  },
  {
   "cell_type": "code",
   "execution_count": 99,
   "metadata": {},
   "outputs": [],
   "source": [
    "# now perform the dot product operation to get a similarity measure\n",
    "dot_product = keras.layers.Dot(axes=(1, 1))([target, context])\n",
    "dot_product = keras.layers.Reshape((1,))(dot_product)\n",
    "# add the sigmoid output layer\n",
    "output = keras.layers.Dense(1, activation='sigmoid')(dot_product)"
   ]
  },
  {
   "cell_type": "code",
   "execution_count": 98,
   "metadata": {},
   "outputs": [
    {
     "data": {
      "text/plain": [
       "TensorShape([None, 1])"
      ]
     },
     "execution_count": 98,
     "metadata": {},
     "output_type": "execute_result"
    }
   ],
   "source": [
    "dot_product.shape"
   ]
  },
  {
   "cell_type": "code",
   "execution_count": 103,
   "metadata": {},
   "outputs": [],
   "source": [
    "keras.models.Model?"
   ]
  },
  {
   "cell_type": "code",
   "execution_count": 104,
   "metadata": {},
   "outputs": [],
   "source": [
    "model = keras.models.Model(inputs=[input_target, input_context], outputs=output)\n",
    "model.compile(loss='binary_crossentropy', optimizer='rmsprop')"
   ]
  },
  {
   "cell_type": "code",
   "execution_count": 108,
   "metadata": {},
   "outputs": [
    {
     "name": "stdout",
     "output_type": "stream",
     "text": [
      "Iteration 0, loss=0.694002628326416\n",
      "Iteration 0, loss=0.6885037422180176\n",
      "Iteration 0, loss=0.6952453851699829\n",
      "Iteration 0, loss=0.677275538444519\n",
      "Iteration 0, loss=0.6715432405471802\n",
      "Iteration 0, loss=0.7004624605178833\n",
      "Iteration 0, loss=0.7096660137176514\n",
      "Iteration 0, loss=0.6936518549919128\n",
      "Iteration 0, loss=0.7017241716384888\n",
      "Iteration 0, loss=0.6917548179626465\n",
      "Iteration 0, loss=0.6814685463905334\n",
      "Iteration 0, loss=0.7093422412872314\n",
      "Iteration 0, loss=0.6927102208137512\n",
      "Iteration 0, loss=0.6764461994171143\n",
      "Iteration 0, loss=0.6957169771194458\n",
      "Iteration 0, loss=0.6917677521705627\n",
      "Iteration 0, loss=0.6859225034713745\n",
      "Iteration 0, loss=0.6960148215293884\n",
      "Iteration 0, loss=0.6696873307228088\n",
      "Iteration 0, loss=0.6982155442237854\n",
      "Iteration 0, loss=0.6714213490486145\n",
      "Iteration 0, loss=0.7012375593185425\n",
      "Iteration 0, loss=0.6990256905555725\n",
      "Iteration 0, loss=0.7067480683326721\n",
      "Iteration 0, loss=0.6710259914398193\n",
      "Iteration 0, loss=0.7291343808174133\n",
      "Iteration 0, loss=0.7187597751617432\n",
      "Iteration 0, loss=0.6866403222084045\n",
      "Iteration 0, loss=0.7031289339065552\n",
      "Iteration 0, loss=0.6771828532218933\n",
      "Iteration 0, loss=0.6575753688812256\n",
      "Iteration 0, loss=0.6484129428863525\n",
      "Iteration 0, loss=0.6758402585983276\n",
      "Iteration 0, loss=0.6681113839149475\n",
      "Iteration 0, loss=0.7080850005149841\n",
      "Iteration 0, loss=0.6906854510307312\n",
      "Iteration 0, loss=0.6759142279624939\n",
      "Iteration 0, loss=0.6744705438613892\n",
      "Iteration 0, loss=0.6768786311149597\n",
      "Iteration 0, loss=0.6969818472862244\n",
      "Iteration 0, loss=0.655870795249939\n",
      "Iteration 0, loss=0.6580334305763245\n",
      "Iteration 0, loss=0.6890270709991455\n",
      "Iteration 0, loss=0.6953673958778381\n",
      "Iteration 0, loss=0.6902753114700317\n",
      "Iteration 0, loss=0.7011281251907349\n",
      "Iteration 0, loss=0.6949149370193481\n",
      "Iteration 0, loss=0.6707581281661987\n",
      "Iteration 0, loss=0.6995998620986938\n",
      "Iteration 0, loss=0.6833535432815552\n",
      "Iteration 0, loss=0.6288824677467346\n",
      "Iteration 0, loss=0.701227605342865\n",
      "Iteration 0, loss=0.6677268147468567\n",
      "Iteration 0, loss=0.7379019260406494\n",
      "Iteration 0, loss=0.7084354162216187\n",
      "Iteration 0, loss=0.6674062609672546\n",
      "Iteration 0, loss=0.7139516472816467\n",
      "Iteration 0, loss=0.7054105401039124\n",
      "Iteration 0, loss=0.6827839016914368\n",
      "Iteration 0, loss=0.8220627903938293\n",
      "Iteration 0, loss=0.666876494884491\n"
     ]
    }
   ],
   "source": [
    "arr_1 = np.zeros((1,))\n",
    "arr_2 = np.zeros((1,))\n",
    "arr_3 = np.zeros((1,))\n",
    "for cnt in range(5):\n",
    "    for i in range(len(labels)):\n",
    "        idx = np.random.randint(0, len(labels)-1)\n",
    "        arr_1[0,] = word_target[idx]\n",
    "        arr_2[0,] = word_context[idx]\n",
    "        arr_3[0,] = labels[idx]\n",
    "        loss = model.train_on_batch([arr_1, arr_2], arr_3)\n",
    "        if i % 100 == 0:\n",
    "            print(\"Iteration {}, loss={}\".format(cnt, loss))"
   ]
  },
  {
   "cell_type": "code",
   "execution_count": 119,
   "metadata": {},
   "outputs": [],
   "source": [
    "w = embedding.get_weights()[0]"
   ]
  },
  {
   "cell_type": "code",
   "execution_count": 118,
   "metadata": {},
   "outputs": [],
   "source": [
    "idx = dictionary['person']"
   ]
  },
  {
   "cell_type": "code",
   "execution_count": 120,
   "metadata": {},
   "outputs": [
    {
     "data": {
      "text/plain": [
       "array([ 0.05875879,  0.01480798, -0.03341787,  0.04902269, -0.03045017,\n",
       "       -0.05767272,  0.03276076,  0.01289787,  0.0221678 , -0.02870808,\n",
       "       -0.01699958,  0.07242923,  0.02689714,  0.10327964, -0.05317249,\n",
       "        0.03814811,  0.02386359,  0.01850935, -0.03562905, -0.03338061,\n",
       "        0.02382117, -0.01251877, -0.07533576, -0.0282331 , -0.02553006,\n",
       "       -0.03479918, -0.06035085,  0.0266262 ,  0.03781849, -0.05995607,\n",
       "       -0.01876321, -0.10121789, -0.0160699 ,  0.00355641, -0.00358264,\n",
       "       -0.02430539, -0.02889276,  0.04428178, -0.0201227 , -0.0265913 ,\n",
       "       -0.00052071, -0.07562482,  0.04237422, -0.0352066 , -0.02323813,\n",
       "        0.01699263, -0.00370002,  0.06112981, -0.03422094,  0.06489883],\n",
       "      dtype=float32)"
      ]
     },
     "execution_count": 120,
     "metadata": {},
     "output_type": "execute_result"
    }
   ],
   "source": [
    "w[idx]"
   ]
  },
  {
   "cell_type": "code",
   "execution_count": 126,
   "metadata": {},
   "outputs": [],
   "source": [
    "from sklearn.neighbors import KNeighborsTransformer"
   ]
  },
  {
   "cell_type": "code",
   "execution_count": 127,
   "metadata": {},
   "outputs": [],
   "source": [
    "knn= KNeighborsTransformer(n_neighbors=1, metric='cosine')"
   ]
  },
  {
   "cell_type": "code",
   "execution_count": 128,
   "metadata": {},
   "outputs": [
    {
     "data": {
      "text/plain": [
       "KNeighborsTransformer(algorithm='auto', leaf_size=30, metric='cosine',\n",
       "                      metric_params=None, mode='distance', n_jobs=1,\n",
       "                      n_neighbors=1, p=2)"
      ]
     },
     "execution_count": 128,
     "metadata": {},
     "output_type": "execute_result"
    }
   ],
   "source": [
    "knn.fit(w)"
   ]
  },
  {
   "cell_type": "code",
   "execution_count": 135,
   "metadata": {},
   "outputs": [
    {
     "data": {
      "text/plain": [
       "(50,)"
      ]
     },
     "execution_count": 135,
     "metadata": {},
     "output_type": "execute_result"
    }
   ],
   "source": [
    "w[idx].shape"
   ]
  },
  {
   "cell_type": "code",
   "execution_count": 139,
   "metadata": {},
   "outputs": [],
   "source": [
    "neighbor, dist = knn.kneighbors(w[idx].reshape(1, -1))"
   ]
  },
  {
   "cell_type": "code",
   "execution_count": 147,
   "metadata": {},
   "outputs": [
    {
     "data": {
      "text/plain": [
       "'UNK'"
      ]
     },
     "execution_count": 147,
     "metadata": {},
     "output_type": "execute_result"
    }
   ],
   "source": [
    "reversed_dictionary[int(neighbor)]"
   ]
  },
  {
   "cell_type": "markdown",
   "metadata": {},
   "source": [
    "# define model"
   ]
  },
  {
   "cell_type": "code",
   "execution_count": 6,
   "metadata": {},
   "outputs": [
    {
     "ename": "SyntaxError",
     "evalue": "unexpected EOF while parsing (<ipython-input-6-dc7f79a237c9>, line 3)",
     "output_type": "error",
     "traceback": [
      "\u001b[0;36m  File \u001b[0;32m\"<ipython-input-6-dc7f79a237c9>\"\u001b[0;36m, line \u001b[0;32m3\u001b[0m\n\u001b[0;31m    \u001b[0m\n\u001b[0m    ^\u001b[0m\n\u001b[0;31mSyntaxError\u001b[0m\u001b[0;31m:\u001b[0m unexpected EOF while parsing\n"
     ]
    }
   ],
   "source": [
    "class SkipGramModel(keras.Model):  # ?\n",
    "    def __init__(self, vector_dim=50):\n",
    "\n",
    "        self.vector_dim = vector_dim"
   ]
  },
  {
   "cell_type": "code",
   "execution_count": null,
   "metadata": {},
   "outputs": [],
   "source": []
  }
 ],
 "metadata": {
  "kernelspec": {
   "display_name": "Python 3",
   "language": "python",
   "name": "python3"
  },
  "language_info": {
   "codemirror_mode": {
    "name": "ipython",
    "version": 3
   },
   "file_extension": ".py",
   "mimetype": "text/x-python",
   "name": "python",
   "nbconvert_exporter": "python",
   "pygments_lexer": "ipython3",
   "version": "3.7.7"
  },
  "toc": {
   "base_numbering": 1,
   "nav_menu": {},
   "number_sections": true,
   "sideBar": true,
   "skip_h1_title": false,
   "title_cell": "Table of Contents",
   "title_sidebar": "Contents",
   "toc_cell": false,
   "toc_position": {},
   "toc_section_display": true,
   "toc_window_display": false
  },
  "varInspector": {
   "cols": {
    "lenName": 16,
    "lenType": 16,
    "lenVar": 40
   },
   "kernels_config": {
    "python": {
     "delete_cmd_postfix": "",
     "delete_cmd_prefix": "del ",
     "library": "var_list.py",
     "varRefreshCmd": "print(var_dic_list())"
    },
    "r": {
     "delete_cmd_postfix": ") ",
     "delete_cmd_prefix": "rm(",
     "library": "var_list.r",
     "varRefreshCmd": "cat(var_dic_list()) "
    }
   },
   "types_to_exclude": [
    "module",
    "function",
    "builtin_function_or_method",
    "instance",
    "_Feature"
   ],
   "window_display": false
  }
 },
 "nbformat": 4,
 "nbformat_minor": 4
}

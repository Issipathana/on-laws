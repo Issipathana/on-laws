{
 "cells": [
  {
   "cell_type": "code",
   "execution_count": 1,
   "metadata": {
    "ExecuteTime": {
     "end_time": "2020-06-15T20:55:24.797879Z",
     "start_time": "2020-06-15T20:55:24.753524Z"
    }
   },
   "outputs": [],
   "source": [
    "import pickle"
   ]
  },
  {
   "cell_type": "code",
   "execution_count": 2,
   "metadata": {
    "ExecuteTime": {
     "end_time": "2020-06-15T20:55:26.671487Z",
     "start_time": "2020-06-15T20:55:24.814609Z"
    }
   },
   "outputs": [],
   "source": [
    "import pandas as pd"
   ]
  },
  {
   "cell_type": "markdown",
   "metadata": {},
   "source": [
    "# load data"
   ]
  },
  {
   "cell_type": "code",
   "execution_count": 4,
   "metadata": {
    "ExecuteTime": {
     "end_time": "2020-06-15T20:55:39.989810Z",
     "start_time": "2020-06-15T20:55:34.420073Z"
    }
   },
   "outputs": [],
   "source": [
    "laws = pickle.load(open('./data/law_objects.p', 'rb'))"
   ]
  },
  {
   "cell_type": "code",
   "execution_count": 5,
   "metadata": {
    "ExecuteTime": {
     "end_time": "2020-06-15T20:55:47.248498Z",
     "start_time": "2020-06-15T20:55:47.208198Z"
    }
   },
   "outputs": [],
   "source": [
    "aoda = laws['Accessibility for Ontarians with Disabilities Act, 2005, S.O. 2005, c. 11']"
   ]
  },
  {
   "cell_type": "code",
   "execution_count": 7,
   "metadata": {
    "ExecuteTime": {
     "end_time": "2020-06-15T20:55:49.534771Z",
     "start_time": "2020-06-15T20:55:49.466973Z"
    },
    "scrolled": false
   },
   "outputs": [
    {
     "data": {
      "text/html": [
       "<div>\n",
       "<style scoped>\n",
       "    .dataframe tbody tr th:only-of-type {\n",
       "        vertical-align: middle;\n",
       "    }\n",
       "\n",
       "    .dataframe tbody tr th {\n",
       "        vertical-align: top;\n",
       "    }\n",
       "\n",
       "    .dataframe thead th {\n",
       "        text-align: right;\n",
       "    }\n",
       "</style>\n",
       "<table border=\"1\" class=\"dataframe\">\n",
       "  <thead>\n",
       "    <tr style=\"text-align: right;\">\n",
       "      <th></th>\n",
       "      <th>level1</th>\n",
       "      <th>level2</th>\n",
       "      <th>level3</th>\n",
       "    </tr>\n",
       "  </thead>\n",
       "  <tbody>\n",
       "    <tr>\n",
       "      <th>0</th>\n",
       "      <td>Part I interpretation</td>\n",
       "      <td></td>\n",
       "      <td>Purpose</td>\n",
       "    </tr>\n",
       "    <tr>\n",
       "      <th>1</th>\n",
       "      <td>Part I interpretation</td>\n",
       "      <td></td>\n",
       "      <td>Definitions</td>\n",
       "    </tr>\n",
       "    <tr>\n",
       "      <th>2</th>\n",
       "      <td>Part I interpretation</td>\n",
       "      <td></td>\n",
       "      <td>Recognition of existing legal obligations</td>\n",
       "    </tr>\n",
       "    <tr>\n",
       "      <th>3</th>\n",
       "      <td>part ii application</td>\n",
       "      <td></td>\n",
       "      <td>Application</td>\n",
       "    </tr>\n",
       "    <tr>\n",
       "      <th>4</th>\n",
       "      <td>part ii application</td>\n",
       "      <td></td>\n",
       "      <td>Crown bound</td>\n",
       "    </tr>\n",
       "    <tr>\n",
       "      <th>...</th>\n",
       "      <td>...</td>\n",
       "      <td>...</td>\n",
       "      <td>...</td>\n",
       "    </tr>\n",
       "    <tr>\n",
       "      <th>158</th>\n",
       "      <td>part x general</td>\n",
       "      <td>Compliance with Standards and Review of Reports</td>\n",
       "      <td>Tabling of report</td>\n",
       "    </tr>\n",
       "    <tr>\n",
       "      <th>159</th>\n",
       "      <td>part x general</td>\n",
       "      <td>Compliance with Standards and Review of Reports</td>\n",
       "      <td>Review of Act</td>\n",
       "    </tr>\n",
       "    <tr>\n",
       "      <th>160</th>\n",
       "      <td>part x general</td>\n",
       "      <td>Compliance with Standards and Review of Reports</td>\n",
       "      <td>Consultation</td>\n",
       "    </tr>\n",
       "    <tr>\n",
       "      <th>161</th>\n",
       "      <td>part x general</td>\n",
       "      <td>Compliance with Standards and Review of Reports</td>\n",
       "      <td>Contents of report</td>\n",
       "    </tr>\n",
       "    <tr>\n",
       "      <th>162</th>\n",
       "      <td>part x general</td>\n",
       "      <td>Compliance with Standards and Review of Reports</td>\n",
       "      <td>Further review</td>\n",
       "    </tr>\n",
       "  </tbody>\n",
       "</table>\n",
       "<p>163 rows × 3 columns</p>\n",
       "</div>"
      ],
      "text/plain": [
       "                    level1                                           level2  \\\n",
       "0    Part I interpretation                                                    \n",
       "1    Part I interpretation                                                    \n",
       "2    Part I interpretation                                                    \n",
       "3      part ii application                                                    \n",
       "4      part ii application                                                    \n",
       "..                     ...                                              ...   \n",
       "158         part x general  Compliance with Standards and Review of Reports   \n",
       "159         part x general  Compliance with Standards and Review of Reports   \n",
       "160         part x general  Compliance with Standards and Review of Reports   \n",
       "161         part x general  Compliance with Standards and Review of Reports   \n",
       "162         part x general  Compliance with Standards and Review of Reports   \n",
       "\n",
       "                                        level3  \n",
       "0                                      Purpose  \n",
       "1                                  Definitions  \n",
       "2    Recognition of existing legal obligations  \n",
       "3                                  Application  \n",
       "4                                  Crown bound  \n",
       "..                                         ...  \n",
       "158                          Tabling of report  \n",
       "159                              Review of Act  \n",
       "160                               Consultation  \n",
       "161                         Contents of report  \n",
       "162                             Further review  \n",
       "\n",
       "[163 rows x 3 columns]"
      ]
     },
     "execution_count": 7,
     "metadata": {},
     "output_type": "execute_result"
    }
   ],
   "source": [
    "df_toc = pd.DataFrame(aoda.table_of_content.values())\n",
    "df_toc"
   ]
  },
  {
   "cell_type": "markdown",
   "metadata": {},
   "source": [
    "# define model"
   ]
  },
  {
   "cell_type": "code",
   "execution_count": null,
   "metadata": {},
   "outputs": [],
   "source": [
    "class SkipGramModel(keras.Model):  # ?\n",
    "    def __init__(self):\n",
    "        "
   ]
  }
 ],
 "metadata": {
  "kernelspec": {
   "display_name": "Python 3",
   "language": "python",
   "name": "python3"
  },
  "language_info": {
   "codemirror_mode": {
    "name": "ipython",
    "version": 3
   },
   "file_extension": ".py",
   "mimetype": "text/x-python",
   "name": "python",
   "nbconvert_exporter": "python",
   "pygments_lexer": "ipython3",
   "version": "3.7.7"
  },
  "toc": {
   "base_numbering": 1,
   "nav_menu": {},
   "number_sections": true,
   "sideBar": true,
   "skip_h1_title": false,
   "title_cell": "Table of Contents",
   "title_sidebar": "Contents",
   "toc_cell": false,
   "toc_position": {},
   "toc_section_display": true,
   "toc_window_display": false
  },
  "varInspector": {
   "cols": {
    "lenName": 16,
    "lenType": 16,
    "lenVar": 40
   },
   "kernels_config": {
    "python": {
     "delete_cmd_postfix": "",
     "delete_cmd_prefix": "del ",
     "library": "var_list.py",
     "varRefreshCmd": "print(var_dic_list())"
    },
    "r": {
     "delete_cmd_postfix": ") ",
     "delete_cmd_prefix": "rm(",
     "library": "var_list.r",
     "varRefreshCmd": "cat(var_dic_list()) "
    }
   },
   "types_to_exclude": [
    "module",
    "function",
    "builtin_function_or_method",
    "instance",
    "_Feature"
   ],
   "window_display": false
  }
 },
 "nbformat": 4,
 "nbformat_minor": 4
}
